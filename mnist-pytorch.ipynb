{
 "cells": [
  {
   "cell_type": "code",
   "execution_count": 5,
   "id": "7dfffe32",
   "metadata": {},
   "outputs": [],
   "source": [
    "\"\"\"\n",
    "MNIST digit recognition using pytorch\n",
    "\"\"\"\n",
    "\n",
    "import pickle\n",
    "import random\n",
    "\n",
    "import torch\n",
    "import torch.nn as nn\n",
    "import torch.nn.functional as F\n",
    "import torch.optim as optim\n",
    "\n",
    "import matplotlib.pyplot as plt\n",
    "from matplotlib import cm"
   ]
  },
  {
   "cell_type": "code",
   "execution_count": 2,
   "id": "681eda39",
   "metadata": {},
   "outputs": [
    {
     "name": "stdout",
     "output_type": "stream",
     "text": [
      "AshNet(\n",
      "  (fc1): Linear(in_features=784, out_features=120, bias=True)\n",
      "  (fc2): Linear(in_features=120, out_features=84, bias=True)\n",
      "  (fc3): Linear(in_features=84, out_features=10, bias=True)\n",
      ")\n"
     ]
    }
   ],
   "source": [
    "# the neural network class\n",
    "class AshNet(nn.Module):\n",
    "    \n",
    "    def __init__(self):\n",
    "        super(AshNet, self).__init__()\n",
    "        # y = Wx + b\n",
    "        self.fc1 = nn.Linear(784, 120)\n",
    "        self.fc2 = nn.Linear(120, 84)\n",
    "        self.fc3 = nn.Linear(84, 10)\n",
    "\n",
    "    \n",
    "    def forward(self, x):\n",
    "        x = F.relu(self.fc1(x))\n",
    "        x = F.relu(self.fc2(x))\n",
    "        # is it softmax by default?\n",
    "        x = self.fc3(x)\n",
    "        return x\n",
    "    \n",
    "net = AshNet()\n",
    "print(net)\n"
   ]
  },
  {
   "cell_type": "code",
   "execution_count": 3,
   "id": "c7925877",
   "metadata": {},
   "outputs": [
    {
     "name": "stdout",
     "output_type": "stream",
     "text": [
      "len params: 6\n",
      "0, torch.Size([120, 784])\n",
      "1, torch.Size([120])\n",
      "2, torch.Size([84, 120])\n",
      "3, torch.Size([84])\n",
      "4, torch.Size([10, 84])\n",
      "5, torch.Size([10])\n"
     ]
    }
   ],
   "source": [
    "# looking at the params\n",
    "params = list(net.parameters())\n",
    "print(f'len params: {len(params)}')\n",
    "# 6 = num_layers * 2 ? (cuz weights and biases per layer)\n",
    "for i in range(len(params)):\n",
    "    print(f'{i}, {params[i].size()}')"
   ]
  },
  {
   "cell_type": "code",
   "execution_count": 8,
   "id": "29fec450",
   "metadata": {},
   "outputs": [
    {
     "name": "stdout",
     "output_type": "stream",
     "text": [
      "id: 203\n",
      "3\n"
     ]
    },
    {
     "data": {
      "image/png": "[encoded data removed]",
      "text/plain": [
       "<Figure size 432x288 with 1 Axes>"
      ]
     },
     "metadata": {
      "needs_background": "light"
     },
     "output_type": "display_data"
    }
   ],
   "source": [
    "# import and view data\n",
    "with open('data/mnist.pkl', 'rb') as f:\n",
    "    train_data, validation_data, test_data = pickle.load(f, encoding='latin1')\n",
    "    \n",
    "train_x, train_y = train_data\n",
    "\n",
    "id = random.randint(1, 1000)\n",
    "print(f'id: {id}')\n",
    "\n",
    "plt.imshow(train_x[id].reshape((28, 28)), cmap=cm.Greys_r)\n",
    "print(train_y[id])\n",
    "\n",
    "n = len(train_data[0])\n",
    "training_data = [(train_data[0][i], train_data[1][i]) for i in range(n) ]"
   ]
  },
  {
   "cell_type": "code",
   "execution_count": 9,
   "id": "ba0aeac8",
   "metadata": {},
   "outputs": [
    {
     "name": "stdout",
     "output_type": "stream",
     "text": [
      "epoch: 0, loss: 0.01686245069057865\n",
      "epoch: 1, loss: 0.01217599625519351\n",
      "epoch: 2, loss: 0.009849721777508648\n",
      "epoch: 3, loss: 0.008388827203579344\n",
      "epoch: 4, loss: 0.007543596433694926\n",
      "epoch: 5, loss: 0.006676021343479337\n",
      "epoch: 6, loss: 0.006173505641335616\n",
      "epoch: 7, loss: 0.005610747101422656\n",
      "epoch: 8, loss: 0.005261060102347246\n",
      "epoch: 9, loss: 0.004937860825544434\n"
     ]
    },
    {
     "data": {
      "text/plain": [
       "[<matplotlib.lines.Line2D at 0x7f3024b0a100>]"
      ]
     },
     "execution_count": 9,
     "metadata": {},
     "output_type": "execute_result"
    },
    {
     "data": {
      "image/png": "[encoded data removed]",
      "text/plain": [
       "<Figure size 432x288 with 1 Axes>"
      ]
     },
     "metadata": {
      "needs_background": "light"
     },
     "output_type": "display_data"
    }
   ],
   "source": [
    "# the training loop\n",
    "\n",
    "EPOCHS = 10\n",
    "BATCH_SIZE = 32\n",
    "loss_function = nn.MSELoss()\n",
    "optimizer = optim.SGD(net.parameters(), lr=0.01)\n",
    "\n",
    "training_losses = []\n",
    "\n",
    "for e in range(EPOCHS):\n",
    "    random.shuffle(training_data)\n",
    "    n = len(training_data)\n",
    "    mini_batches = [training_data[k: k+BATCH_SIZE]\n",
    "                       for k in range(0, n, BATCH_SIZE)]\n",
    "    \n",
    "    for mini_batch in mini_batches:\n",
    "        net.zero_grad()\n",
    "        for x, y  in mini_batch:\n",
    "            # make to tensor can be more efficient\n",
    "            out = net(torch.tensor(x))\n",
    "            vec_y = torch.zeros((10))\n",
    "            vec_y[y] = 1\n",
    "            loss = loss_function(out, vec_y)\n",
    "            loss.backward()\n",
    "        optimizer.step()\n",
    "        \n",
    "    # calculating training loss\n",
    "    # can be much muich more efficient\n",
    "    loss_value = 0\n",
    "    for mini_batch in mini_batches:\n",
    "        for x, y  in mini_batch:\n",
    "            out = net(torch.tensor(x))\n",
    "            vec_y = torch.zeros((10))\n",
    "            vec_y[y] = 1\n",
    "            loss = loss_function(out, vec_y)\n",
    "            loss_value += float(loss) / n\n",
    "    print(f'epoch: {e}, loss: {loss_value}')\n",
    "    training_losses.append(loss_value)\n",
    "    \n",
    "plt.plot(training_losses)"
   ]
  },
  {
   "cell_type": "code",
   "execution_count": 10,
   "id": "876ce839",
   "metadata": {},
   "outputs": [
    {
     "name": "stdout",
     "output_type": "stream",
     "text": [
      "test accuracy: 97.59%\n",
      "validation accuracy: 97.56%\n"
     ]
    }
   ],
   "source": [
    "# is the net trained?\n",
    "\n",
    "\n",
    "def get_accuracy(data_set):\n",
    "    test_x, test_y = data_set\n",
    "    success = 0\n",
    "    total = len(test_x)\n",
    "    for i in range(len(test_x)):\n",
    "        pred = torch.argmax(net(torch.tensor(test_x[i])))\n",
    "        if pred == test_y[i]:\n",
    "            success += 1\n",
    "\n",
    "    return round(success/total*100, 3)\n",
    "    \n",
    "\n",
    "print(f'test accuracy: {get_accuracy(test_data)}%')\n",
    "print(f'validation accuracy: {get_accuracy(validation_data)}%')\n"
   ]
  },
  {
   "cell_type": "code",
   "execution_count": 13,
   "id": "81452feb",
   "metadata": {},
   "outputs": [
    {
     "name": "stdout",
     "output_type": "stream",
     "text": [
      "id: 2773\n",
      "label: 5\n",
      "pred: 5\n"
     ]
    },
    {
     "data": {
      "image/png": "[encoded data removed]",
      "text/plain": [
       "<Figure size 432x288 with 1 Axes>"
      ]
     },
     "metadata": {
      "needs_background": "light"
     },
     "output_type": "display_data"
    }
   ],
   "source": [
    "# let's see some examples\n",
    "\n",
    "test_x, test_y = test_data\n",
    "\n",
    "id = random.randint(1, 10000)\n",
    "print(f'id: {id}')\n",
    "\n",
    "plt.imshow(test_x[id].reshape((28, 28)), cmap=cm.Greys_r)\n",
    "print(f'label: {test_y[id]}')\n",
    "\n",
    "pred = torch.argmax(net(torch.tensor(test_x[id])))\n",
    "print(f'pred: {pred}')\n"
   ]
  },
  {
   "cell_type": "code",
   "execution_count": null,
   "id": "9950b492",
   "metadata": {},
   "outputs": [],
   "source": []
  }
 ],
 "metadata": {
  "kernelspec": {
   "display_name": "Python 3",
   "language": "python",
   "name": "python3"
  },
  "language_info": {
   "codemirror_mode": {
    "name": "ipython",
    "version": 3
   },
   "file_extension": ".py",
   "mimetype": "text/x-python",
   "name": "python",
   "nbconvert_exporter": "python",
   "pygments_lexer": "ipython3",
   "version": "3.8.5"
  }
 },
 "nbformat": 4,
 "nbformat_minor": 5
}
